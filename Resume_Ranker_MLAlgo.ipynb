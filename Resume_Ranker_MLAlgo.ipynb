{
  "nbformat": 4,
  "nbformat_minor": 0,
  "metadata": {
    "colab": {
      "provenance": []
    },
    "kernelspec": {
      "name": "python3",
      "display_name": "Python 3"
    },
    "language_info": {
      "name": "python"
    }
  },
  "cells": [
    {
      "cell_type": "code",
      "execution_count": 4,
      "metadata": {
        "id": "3G13JnJArk3p"
      },
      "outputs": [],
      "source": [
        "import pandas as pd\n",
        "from sklearn.feature_extraction.text import TfidfVectorizer\n",
        "from sklearn.ensemble import GradientBoostingClassifier\n",
        "from sklearn.metrics.pairwise import cosine_similarity\n",
        "from sklearn.model_selection import train_test_split\n",
        "from imblearn.over_sampling import SMOTE\n",
        "import re"
      ]
    },
    {
      "source": [
        "df = pd.read_excel('Resume Ranking Data set.xlsx')\n",
        "print(df.head())"
      ],
      "cell_type": "code",
      "metadata": {
        "id": "6bbTAX_vw2vX",
        "colab": {
          "base_uri": "https://localhost:8080/"
        },
        "outputId": "25b1cd86-2383-48be-8659-1c9a779c6828"
      },
      "execution_count": 6,
      "outputs": [
        {
          "output_type": "stream",
          "name": "stdout",
          "text": [
            "                             accomplishments_segment             degree  \\\n",
            "0                                                NaN  MS , B.TECH , PhD   \n",
            "1                                                NaN  B.E , MS , M.TECH   \n",
            "2  Successfully cleared and completed the course ...   MS , B.TECH , BS   \n",
            "3                                                NaN      B.E , MS , BS   \n",
            "4                                                NaN   MS , B.TECH , BS   \n",
            "\n",
            "                                   education_segment  \\\n",
            "0                                                NaN   \n",
            "1  M.Tech. Data Science\\nJSS Science And Technolo...   \n",
            "2  Degree\\nInstitute\\nBoard/University\\nYear\\nPer...   \n",
            "3                                                NaN   \n",
            "4                                                NaN   \n",
            "\n",
            "                         emails  \\\n",
            "0    sutarvinayak2063@gmail.com   \n",
            "1             pooj.vs@gmail.com   \n",
            "2  khandelwal.ashwin5@gmail.com   \n",
            "3                           NaN   \n",
            "4                           NaN   \n",
            "\n",
            "                                          job_titles  \\\n",
            "0                     full stack developer , student   \n",
            "1                                  software engineer   \n",
            "2                                                NaN   \n",
            "3  work from home , support analyst , software an...   \n",
            "4                        work from home , classifier   \n",
            "\n",
            "                                               links  \\\n",
            "0  https://github.com/ramsuthar305/SIH2019 , http...   \n",
            "1                                            pooj.vs   \n",
            "2  https://www.linkedin.com/in/ashwin-khandelwal-...   \n",
            "3                                                NaN   \n",
            "4  https://github.com/ajay1013/Titanic-ML-from-Di...   \n",
            "\n",
            "                                        misc_segment                  name  \\\n",
            "0                                                NaN          Prasad Nagar   \n",
            "1  06/2017 – 07/2019\\n07/2018 – 07/2019\\nmailto:p...     Software Engineer   \n",
            "2                                                NaN     Ashwin Khandelwal   \n",
            "3                                                NaN  Computer Engineering   \n",
            "4                                                NaN             Python   \n",
            "\n",
            "                                  objectives_segment          phone  ...  \\\n",
            "0                                                NaN  +919309161108  ...   \n",
            "1                                                NaN     7411786822  ...   \n",
            "2  I seek challenging environment to work in, tha...     9462710290  ...   \n",
            "3                                                NaN   919930485336  ...   \n",
            "4                                                NaN   918010295832  ...   \n",
            "\n",
            "                                                text  \\\n",
            "0  VINAYAK \\nSUTAR \\nLinkedIn  \\n+91 9309161108  ...   \n",
            "1  POOJA V S\\nSoftware Engineer\\nRich exposure to...   \n",
            "2  Ashwin Khandelwal          \\n Email id – khand...   \n",
            "3  Assessment\\nQ1. Why should you be hired for th...   \n",
            "4  Assessment\\nQ1. Why should you be hired for th...   \n",
            "\n",
            "                                        university_0  \\\n",
            "0                  national, mainpuri, uttar pradesh   \n",
            "1                      government, kandhamal, odisha   \n",
            "2  narsee monjee institute of management studies,...   \n",
            "3                           master, medak, telangana   \n",
            "4  greater noida institute of technology, gautam ...   \n",
            "\n",
            "                                        university_1  \\\n",
            "0                college of arts, sundargarh, odisha   \n",
            "1  vidya vardhaka college of engineering, mysore,...   \n",
            "2                                                NaN   \n",
            "3                                                NaN   \n",
            "4                                                NaN   \n",
            "\n",
            "                               university_2 university_3 university_4  \\\n",
            "0  school of engineering, ernakulam, kerala          NaN          NaN   \n",
            "1                                       NaN          NaN          NaN   \n",
            "2                                       NaN          NaN          NaN   \n",
            "3                                       NaN          NaN          NaN   \n",
            "4                                       NaN          NaN          NaN   \n",
            "\n",
            "  university_5                                                url  \\\n",
            "0          NaN  https://training-resumes.s3.ap-south-1.amazona...   \n",
            "1          NaN  https://training-resumes.s3.ap-south-1.amazona...   \n",
            "2          NaN  https://training-resumes.s3.ap-south-1.amazona...   \n",
            "3          NaN  https://training-resumes.s3.ap-south-1.amazona...   \n",
            "4          NaN  https://training-resumes.s3.ap-south-1.amazona...   \n",
            "\n",
            "  work_experience                                       work_segment  \n",
            "0             NaN                                                NaN  \n",
            "1             NaN  Merchandising System' using PL/SQL.\\nmaintain ...  \n",
            "2             NaN  Organization / Institute\\nDescription\\nBharat ...  \n",
            "3             1.0                                                NaN  \n",
            "4             NaN                                                NaN  \n",
            "\n",
            "[5 rows x 23 columns]\n"
          ]
        }
      ]
    },
    {
      "cell_type": "code",
      "source": [
        "print(df.columns)"
      ],
      "metadata": {
        "id": "mjnHuRRm_LGH",
        "colab": {
          "base_uri": "https://localhost:8080/"
        },
        "outputId": "f990a779-b3a0-46bc-e30c-82130644d683"
      },
      "execution_count": 7,
      "outputs": [
        {
          "output_type": "stream",
          "name": "stdout",
          "text": [
            "Index(['accomplishments_segment', 'degree', 'education_segment', 'emails',\n",
            "       'job_titles', 'links', 'misc_segment', 'name', 'objectives_segment',\n",
            "       'phone', 'projects_segment', 'skills', 'skills_segment', 'text',\n",
            "       'university_0', 'university_1', 'university_2', 'university_3',\n",
            "       'university_4', 'university_5', 'url', 'work_experience',\n",
            "       'work_segment'],\n",
            "      dtype='object')\n"
          ]
        }
      ]
    },
    {
      "cell_type": "code",
      "source": [
        "# Clean and preprocess relevant text columns\n",
        "def clean_text(text):\n",
        "    if isinstance(text, str):\n",
        "        text = text.lower()\n",
        "        text = re.sub(r'\\W', ' ', text)\n",
        "        text = re.sub(r'\\s+', ' ', text)\n",
        "        return text\n",
        "    return ''\n"
      ],
      "metadata": {
        "id": "VPEYtOQ4DNzi"
      },
      "execution_count": 8,
      "outputs": []
    },
    {
      "cell_type": "code",
      "source": [
        "# Fill NaN values with an empty string\n",
        "df['skills'] = df['skills'].fillna('').apply(clean_text)\n",
        "df['work_experience'] = df['work_experience'].fillna('').apply(clean_text)\n",
        "df['education_segment'] = df['education_segment'].fillna('').apply(clean_text)\n",
        "df['projects_segment'] = df['projects_segment'].fillna('').apply(clean_text)\n",
        "df['job_titles'] = df['job_titles'].fillna('')\n",
        "df['skills_segment'] = df['skills_segment'].fillna('').apply(clean_text)\n",
        "df['work_segment'] = df['work_segment'].fillna('').apply(clean_text)"
      ],
      "metadata": {
        "id": "4QlgrZO2G_cD"
      },
      "execution_count": 9,
      "outputs": []
    },
    {
      "cell_type": "code",
      "source": [
        "# Combine features into a single text field\n",
        "df['combined_text'] = df['skills'] + ' ' + df['work_experience'] + ' ' + df['education_segment'] + ' ' + df['projects_segment'] + ' ' + df['skills_segment'] + ' ' + df['work_segment']"
      ],
      "metadata": {
        "id": "agGgqyohG_wj"
      },
      "execution_count": 12,
      "outputs": []
    },
    {
      "cell_type": "code",
      "source": [
        "# Create a mapping for job titles to combine less frequent classes\n",
        "def map_job_titles(title):\n",
        "    if 'software engineer' in title:\n",
        "        return 'software engineer'\n",
        "    if 'developer' in title:\n",
        "        return 'developer'\n",
        "    if 'data scientist' in title or 'data analyst' in title:\n",
        "        return 'data scientist'\n",
        "    if 'manager' in title:\n",
        "        return 'manager'\n",
        "    if 'intern' in title:\n",
        "        return 'intern'\n",
        "    return 'other'\n",
        "\n",
        "df['job_titles_mapped'] = df['job_titles'].apply(map_job_titles)\n"
      ],
      "metadata": {
        "id": "D2YOKpb2G_8S"
      },
      "execution_count": 13,
      "outputs": []
    },
    {
      "cell_type": "code",
      "source": [
        "# Use 'job_titles_mapped' as the target variable\n",
        "X = df['combined_text']\n",
        "y = df['job_titles_mapped']\n",
        "\n",
        "# Remove rows where the target variable is empty after filling NaNs\n",
        "df = df[df['job_titles_mapped'] != '']\n",
        "\n",
        "X_train, X_test, y_train, y_test = train_test_split(X, y, test_size=0.2, random_state=42)\n"
      ],
      "metadata": {
        "id": "HuNM99_pHNMN"
      },
      "execution_count": 14,
      "outputs": []
    },
    {
      "cell_type": "code",
      "source": [
        "# Convert text data to TF-IDF features\n",
        "vectorizer = TfidfVectorizer(max_features=5000)\n",
        "X_train_tfidf = vectorizer.fit_transform(X_train)\n",
        "X_test_tfidf = vectorizer.transform(X_test)\n"
      ],
      "metadata": {
        "id": "SZ7-npvHHPUk"
      },
      "execution_count": 15,
      "outputs": []
    },
    {
      "cell_type": "code",
      "source": [
        "# Balancing the classes using SMOTE\n",
        "smote = SMOTE(random_state=42)\n",
        "X_train_tfidf_balanced, y_train_balanced = smote.fit_resample(X_train_tfidf, y_train)\n"
      ],
      "metadata": {
        "id": "wzTgLlFrHS38"
      },
      "execution_count": 16,
      "outputs": []
    },
    {
      "cell_type": "code",
      "source": [
        "# Train a Random Forest model\n",
        "rf_model = RandomForestClassifier(random_state=42)\n",
        "rf_model.fit(X_train_tfidf_balanced, y_train_balanced)\n"
      ],
      "metadata": {
        "id": "MUVqkjZfHaFc",
        "colab": {
          "base_uri": "https://localhost:8080/",
          "height": 74
        },
        "outputId": "e718a3bd-b66f-43e0-968d-0b9ed2b88156"
      },
      "execution_count": 17,
      "outputs": [
        {
          "output_type": "execute_result",
          "data": {
            "text/plain": [
              "RandomForestClassifier(random_state=42)"
            ],
            "text/html": [
              "<style>#sk-container-id-1 {color: black;background-color: white;}#sk-container-id-1 pre{padding: 0;}#sk-container-id-1 div.sk-toggleable {background-color: white;}#sk-container-id-1 label.sk-toggleable__label {cursor: pointer;display: block;width: 100%;margin-bottom: 0;padding: 0.3em;box-sizing: border-box;text-align: center;}#sk-container-id-1 label.sk-toggleable__label-arrow:before {content: \"▸\";float: left;margin-right: 0.25em;color: #696969;}#sk-container-id-1 label.sk-toggleable__label-arrow:hover:before {color: black;}#sk-container-id-1 div.sk-estimator:hover label.sk-toggleable__label-arrow:before {color: black;}#sk-container-id-1 div.sk-toggleable__content {max-height: 0;max-width: 0;overflow: hidden;text-align: left;background-color: #f0f8ff;}#sk-container-id-1 div.sk-toggleable__content pre {margin: 0.2em;color: black;border-radius: 0.25em;background-color: #f0f8ff;}#sk-container-id-1 input.sk-toggleable__control:checked~div.sk-toggleable__content {max-height: 200px;max-width: 100%;overflow: auto;}#sk-container-id-1 input.sk-toggleable__control:checked~label.sk-toggleable__label-arrow:before {content: \"▾\";}#sk-container-id-1 div.sk-estimator input.sk-toggleable__control:checked~label.sk-toggleable__label {background-color: #d4ebff;}#sk-container-id-1 div.sk-label input.sk-toggleable__control:checked~label.sk-toggleable__label {background-color: #d4ebff;}#sk-container-id-1 input.sk-hidden--visually {border: 0;clip: rect(1px 1px 1px 1px);clip: rect(1px, 1px, 1px, 1px);height: 1px;margin: -1px;overflow: hidden;padding: 0;position: absolute;width: 1px;}#sk-container-id-1 div.sk-estimator {font-family: monospace;background-color: #f0f8ff;border: 1px dotted black;border-radius: 0.25em;box-sizing: border-box;margin-bottom: 0.5em;}#sk-container-id-1 div.sk-estimator:hover {background-color: #d4ebff;}#sk-container-id-1 div.sk-parallel-item::after {content: \"\";width: 100%;border-bottom: 1px solid gray;flex-grow: 1;}#sk-container-id-1 div.sk-label:hover label.sk-toggleable__label {background-color: #d4ebff;}#sk-container-id-1 div.sk-serial::before {content: \"\";position: absolute;border-left: 1px solid gray;box-sizing: border-box;top: 0;bottom: 0;left: 50%;z-index: 0;}#sk-container-id-1 div.sk-serial {display: flex;flex-direction: column;align-items: center;background-color: white;padding-right: 0.2em;padding-left: 0.2em;position: relative;}#sk-container-id-1 div.sk-item {position: relative;z-index: 1;}#sk-container-id-1 div.sk-parallel {display: flex;align-items: stretch;justify-content: center;background-color: white;position: relative;}#sk-container-id-1 div.sk-item::before, #sk-container-id-1 div.sk-parallel-item::before {content: \"\";position: absolute;border-left: 1px solid gray;box-sizing: border-box;top: 0;bottom: 0;left: 50%;z-index: -1;}#sk-container-id-1 div.sk-parallel-item {display: flex;flex-direction: column;z-index: 1;position: relative;background-color: white;}#sk-container-id-1 div.sk-parallel-item:first-child::after {align-self: flex-end;width: 50%;}#sk-container-id-1 div.sk-parallel-item:last-child::after {align-self: flex-start;width: 50%;}#sk-container-id-1 div.sk-parallel-item:only-child::after {width: 0;}#sk-container-id-1 div.sk-dashed-wrapped {border: 1px dashed gray;margin: 0 0.4em 0.5em 0.4em;box-sizing: border-box;padding-bottom: 0.4em;background-color: white;}#sk-container-id-1 div.sk-label label {font-family: monospace;font-weight: bold;display: inline-block;line-height: 1.2em;}#sk-container-id-1 div.sk-label-container {text-align: center;}#sk-container-id-1 div.sk-container {/* jupyter's `normalize.less` sets `[hidden] { display: none; }` but bootstrap.min.css set `[hidden] { display: none !important; }` so we also need the `!important` here to be able to override the default hidden behavior on the sphinx rendered scikit-learn.org. See: https://github.com/scikit-learn/scikit-learn/issues/21755 */display: inline-block !important;position: relative;}#sk-container-id-1 div.sk-text-repr-fallback {display: none;}</style><div id=\"sk-container-id-1\" class=\"sk-top-container\"><div class=\"sk-text-repr-fallback\"><pre>RandomForestClassifier(random_state=42)</pre><b>In a Jupyter environment, please rerun this cell to show the HTML representation or trust the notebook. <br />On GitHub, the HTML representation is unable to render, please try loading this page with nbviewer.org.</b></div><div class=\"sk-container\" hidden><div class=\"sk-item\"><div class=\"sk-estimator sk-toggleable\"><input class=\"sk-toggleable__control sk-hidden--visually\" id=\"sk-estimator-id-1\" type=\"checkbox\" checked><label for=\"sk-estimator-id-1\" class=\"sk-toggleable__label sk-toggleable__label-arrow\">RandomForestClassifier</label><div class=\"sk-toggleable__content\"><pre>RandomForestClassifier(random_state=42)</pre></div></div></div></div></div>"
            ]
          },
          "metadata": {},
          "execution_count": 17
        }
      ]
    },
    {
      "cell_type": "code",
      "source": [
        "# Predict on the test set\n",
        "y_pred_rf = rf_model.predict(X_test_tfidf)"
      ],
      "metadata": {
        "id": "pVMR0-QzHeyk"
      },
      "execution_count": 18,
      "outputs": []
    },
    {
      "cell_type": "code",
      "source": [
        "# Evaluate the model\n",
        "print(\"Accuracy:\", accuracy_score(y_test, y_pred_rf))\n",
        "print(\"Classification Report:\\n\", classification_report(y_test, y_pred_rf))"
      ],
      "metadata": {
        "id": "ingVOdXgHhtF",
        "colab": {
          "base_uri": "https://localhost:8080/"
        },
        "outputId": "29654885-4d5f-42ae-d7ea-bcf4060ff10d"
      },
      "execution_count": 19,
      "outputs": [
        {
          "output_type": "stream",
          "name": "stdout",
          "text": [
            "Accuracy: 0.5682539682539682\n",
            "Classification Report:\n",
            "                    precision    recall  f1-score   support\n",
            "\n",
            "   data scientist       0.50      0.12      0.20         8\n",
            "        developer       0.40      0.37      0.39        62\n",
            "           intern       0.15      0.20      0.17        10\n",
            "          manager       0.54      0.60      0.57        42\n",
            "            other       0.70      0.79      0.74       134\n",
            "software engineer       0.49      0.37      0.42        59\n",
            "\n",
            "         accuracy                           0.57       315\n",
            "        macro avg       0.46      0.41      0.42       315\n",
            "     weighted avg       0.56      0.57      0.56       315\n",
            "\n"
          ]
        }
      ]
    },
    {
      "cell_type": "code",
      "source": [
        "# Train the Gradient Boosting model\n",
        "gb_model = GradientBoostingClassifier(random_state=42)\n",
        "gb_model.fit(X_train_tfidf_balanced, y_train_balanced)"
      ],
      "metadata": {
        "id": "Mb_n5E4hMAKC",
        "colab": {
          "base_uri": "https://localhost:8080/",
          "height": 74
        },
        "outputId": "e17ec9ca-f051-43c5-d054-e9ddb6942c64"
      },
      "execution_count": 20,
      "outputs": [
        {
          "output_type": "execute_result",
          "data": {
            "text/plain": [
              "GradientBoostingClassifier(random_state=42)"
            ],
            "text/html": [
              "<style>#sk-container-id-2 {color: black;background-color: white;}#sk-container-id-2 pre{padding: 0;}#sk-container-id-2 div.sk-toggleable {background-color: white;}#sk-container-id-2 label.sk-toggleable__label {cursor: pointer;display: block;width: 100%;margin-bottom: 0;padding: 0.3em;box-sizing: border-box;text-align: center;}#sk-container-id-2 label.sk-toggleable__label-arrow:before {content: \"▸\";float: left;margin-right: 0.25em;color: #696969;}#sk-container-id-2 label.sk-toggleable__label-arrow:hover:before {color: black;}#sk-container-id-2 div.sk-estimator:hover label.sk-toggleable__label-arrow:before {color: black;}#sk-container-id-2 div.sk-toggleable__content {max-height: 0;max-width: 0;overflow: hidden;text-align: left;background-color: #f0f8ff;}#sk-container-id-2 div.sk-toggleable__content pre {margin: 0.2em;color: black;border-radius: 0.25em;background-color: #f0f8ff;}#sk-container-id-2 input.sk-toggleable__control:checked~div.sk-toggleable__content {max-height: 200px;max-width: 100%;overflow: auto;}#sk-container-id-2 input.sk-toggleable__control:checked~label.sk-toggleable__label-arrow:before {content: \"▾\";}#sk-container-id-2 div.sk-estimator input.sk-toggleable__control:checked~label.sk-toggleable__label {background-color: #d4ebff;}#sk-container-id-2 div.sk-label input.sk-toggleable__control:checked~label.sk-toggleable__label {background-color: #d4ebff;}#sk-container-id-2 input.sk-hidden--visually {border: 0;clip: rect(1px 1px 1px 1px);clip: rect(1px, 1px, 1px, 1px);height: 1px;margin: -1px;overflow: hidden;padding: 0;position: absolute;width: 1px;}#sk-container-id-2 div.sk-estimator {font-family: monospace;background-color: #f0f8ff;border: 1px dotted black;border-radius: 0.25em;box-sizing: border-box;margin-bottom: 0.5em;}#sk-container-id-2 div.sk-estimator:hover {background-color: #d4ebff;}#sk-container-id-2 div.sk-parallel-item::after {content: \"\";width: 100%;border-bottom: 1px solid gray;flex-grow: 1;}#sk-container-id-2 div.sk-label:hover label.sk-toggleable__label {background-color: #d4ebff;}#sk-container-id-2 div.sk-serial::before {content: \"\";position: absolute;border-left: 1px solid gray;box-sizing: border-box;top: 0;bottom: 0;left: 50%;z-index: 0;}#sk-container-id-2 div.sk-serial {display: flex;flex-direction: column;align-items: center;background-color: white;padding-right: 0.2em;padding-left: 0.2em;position: relative;}#sk-container-id-2 div.sk-item {position: relative;z-index: 1;}#sk-container-id-2 div.sk-parallel {display: flex;align-items: stretch;justify-content: center;background-color: white;position: relative;}#sk-container-id-2 div.sk-item::before, #sk-container-id-2 div.sk-parallel-item::before {content: \"\";position: absolute;border-left: 1px solid gray;box-sizing: border-box;top: 0;bottom: 0;left: 50%;z-index: -1;}#sk-container-id-2 div.sk-parallel-item {display: flex;flex-direction: column;z-index: 1;position: relative;background-color: white;}#sk-container-id-2 div.sk-parallel-item:first-child::after {align-self: flex-end;width: 50%;}#sk-container-id-2 div.sk-parallel-item:last-child::after {align-self: flex-start;width: 50%;}#sk-container-id-2 div.sk-parallel-item:only-child::after {width: 0;}#sk-container-id-2 div.sk-dashed-wrapped {border: 1px dashed gray;margin: 0 0.4em 0.5em 0.4em;box-sizing: border-box;padding-bottom: 0.4em;background-color: white;}#sk-container-id-2 div.sk-label label {font-family: monospace;font-weight: bold;display: inline-block;line-height: 1.2em;}#sk-container-id-2 div.sk-label-container {text-align: center;}#sk-container-id-2 div.sk-container {/* jupyter's `normalize.less` sets `[hidden] { display: none; }` but bootstrap.min.css set `[hidden] { display: none !important; }` so we also need the `!important` here to be able to override the default hidden behavior on the sphinx rendered scikit-learn.org. See: https://github.com/scikit-learn/scikit-learn/issues/21755 */display: inline-block !important;position: relative;}#sk-container-id-2 div.sk-text-repr-fallback {display: none;}</style><div id=\"sk-container-id-2\" class=\"sk-top-container\"><div class=\"sk-text-repr-fallback\"><pre>GradientBoostingClassifier(random_state=42)</pre><b>In a Jupyter environment, please rerun this cell to show the HTML representation or trust the notebook. <br />On GitHub, the HTML representation is unable to render, please try loading this page with nbviewer.org.</b></div><div class=\"sk-container\" hidden><div class=\"sk-item\"><div class=\"sk-estimator sk-toggleable\"><input class=\"sk-toggleable__control sk-hidden--visually\" id=\"sk-estimator-id-2\" type=\"checkbox\" checked><label for=\"sk-estimator-id-2\" class=\"sk-toggleable__label sk-toggleable__label-arrow\">GradientBoostingClassifier</label><div class=\"sk-toggleable__content\"><pre>GradientBoostingClassifier(random_state=42)</pre></div></div></div></div></div>"
            ]
          },
          "metadata": {},
          "execution_count": 20
        }
      ]
    },
    {
      "cell_type": "code",
      "source": [
        "#predict on the test set\n",
        "y_pred_gb = gb_model.predict(X_test_tfidf)"
      ],
      "metadata": {
        "id": "Bql7-6rFO1En"
      },
      "execution_count": 21,
      "outputs": []
    },
    {
      "cell_type": "code",
      "source": [
        "# Evaluate the model\n",
        "print(\"Accuracy:\", accuracy_score(y_test, y_pred_gb))\n",
        "print(\"Classification Report:\\n\", classification_report(y_test, y_pred_gb))"
      ],
      "metadata": {
        "colab": {
          "base_uri": "https://localhost:8080/"
        },
        "id": "8xr9hsEFl4Y_",
        "outputId": "75008fa3-d11e-488f-a8f1-adad2bee2d6a"
      },
      "execution_count": 22,
      "outputs": [
        {
          "output_type": "stream",
          "name": "stdout",
          "text": [
            "Accuracy: 0.6634920634920635\n",
            "Classification Report:\n",
            "                    precision    recall  f1-score   support\n",
            "\n",
            "   data scientist       0.67      0.50      0.57         8\n",
            "        developer       0.50      0.52      0.51        62\n",
            "           intern       0.50      0.40      0.44        10\n",
            "          manager       0.70      0.62      0.66        42\n",
            "            other       0.75      0.84      0.79       134\n",
            "software engineer       0.62      0.53      0.57        59\n",
            "\n",
            "         accuracy                           0.66       315\n",
            "        macro avg       0.62      0.57      0.59       315\n",
            "     weighted avg       0.66      0.66      0.66       315\n",
            "\n"
          ]
        }
      ]
    },
    {
      "cell_type": "code",
      "source": [
        "from sklearn.svm import SVC\n",
        "\n",
        "# Train an SVM model\n",
        "svm_model = SVC(kernel='linear', random_state=42)\n",
        "svm_model.fit(X_train_tfidf_balanced, y_train_balanced)\n",
        "\n",
        "# Predict on the test set\n",
        "y_pred_svm = svm_model.predict(X_test_tfidf)\n",
        "\n",
        "# Evaluate the model\n",
        "print(\"SVM Accuracy:\", accuracy_score(y_test, y_pred_svm))\n",
        "print(\"SVM Classification Report:\\n\", classification_report(y_test, y_pred_svm))\n"
      ],
      "metadata": {
        "colab": {
          "base_uri": "https://localhost:8080/"
        },
        "id": "sWj1ahVrmGYJ",
        "outputId": "11ed477d-099c-4a08-caa5-aba1e324b137"
      },
      "execution_count": 23,
      "outputs": [
        {
          "output_type": "stream",
          "name": "stdout",
          "text": [
            "SVM Accuracy: 0.5841269841269842\n",
            "SVM Classification Report:\n",
            "                    precision    recall  f1-score   support\n",
            "\n",
            "   data scientist       0.50      0.12      0.20         8\n",
            "        developer       0.44      0.44      0.44        62\n",
            "           intern       0.14      0.20      0.17        10\n",
            "          manager       0.56      0.57      0.56        42\n",
            "            other       0.70      0.76      0.73       134\n",
            "software engineer       0.56      0.47      0.51        59\n",
            "\n",
            "         accuracy                           0.58       315\n",
            "        macro avg       0.48      0.43      0.44       315\n",
            "     weighted avg       0.58      0.58      0.58       315\n",
            "\n"
          ]
        }
      ]
    },
    {
      "cell_type": "markdown",
      "source": [
        "#So we can see that the gradient boosting model gives us more accuracy than random forest as well as svm models"
      ],
      "metadata": {
        "id": "B32Lhbp1lAU5"
      }
    },
    {
      "cell_type": "code",
      "source": [
        "# Function to rank resumes based on a given job description\n",
        "def rank_resumes(job_description, resumes_df, model, vectorizer):\n",
        "    job_description_cleaned = clean_text(job_description)\n",
        "    job_description_tfidf = vectorizer.transform([job_description_cleaned])\n",
        "\n",
        "    resumes_tfidf = vectorizer.transform(resumes_df['combined_text'])\n",
        "    similarities = cosine_similarity(job_description_tfidf, resumes_tfidf).flatten()\n",
        "\n",
        "    # Predict job titles using the model\n",
        "    predictions = model.predict(resumes_tfidf)\n",
        "    resumes_df['predicted_job_title'] = predictions\n",
        "\n",
        "    # Score resumes based on predicted relevance to the job title in the description\n",
        "    # (assuming the job description contains the target job title, here 'data scientist')\n",
        "    target_job_title = 'data scientist'  # Extract this dynamically if needed\n",
        "    relevance_scores = resumes_df['predicted_job_title'].apply(lambda x: 1 if x == target_job_title else 0)\n",
        "\n",
        "    resumes_df['similarity_score'] = similarities\n",
        "    resumes_df['combined_score'] = resumes_df['similarity_score'] * 0.5 + relevance_scores * 0.5\n",
        "\n",
        "    ranked_resumes = resumes_df.sort_values(by='combined_score', ascending=False)\n",
        "\n",
        "    return ranked_resumes\n",
        "\n",
        "# Example job description\n",
        "job_description = \"Data Scientist, Pune, India, XYZ Analytics, 3+ yrs exp, analyze large datasets, develop predictive models, collaborate cross-functional teams, present findings, Bachelor's/Master's in CS/Statistics/Math, Python/R/Java, strong analytical skills, excellent communication, experience with big data technologies/cloud platforms/data visualization tools preferred, competitive salary/benefits, career growth opportunities, flexible work hours/remote work options, send resume/cover letter to careers@xyzanalytics.com.\"\n",
        "\n",
        "# Rank the resumes\n",
        "ranked_resumes = rank_resumes(job_description, df, gb_model, vectorizer)\n",
        "print(f\"Ranked Resumes:\\n{ranked_resumes[['name', 'job_titles', 'similarity_score', 'combined_score']].head(10)}\")"
      ],
      "metadata": {
        "colab": {
          "base_uri": "https://localhost:8080/"
        },
        "id": "9_epX8UsmNji",
        "outputId": "2030b6af-9306-48fe-cb17-7c0285d4e45d"
      },
      "execution_count": 24,
      "outputs": [
        {
          "output_type": "stream",
          "name": "stdout",
          "text": [
            "Ranked Resumes:\n",
            "                       name  \\\n",
            "186        Machine Learning   \n",
            "185        Machine Learning   \n",
            "595   Letterkenny Institute   \n",
            "668          Waqqas Khusraw   \n",
            "1340                  AI ML   \n",
            "423               Rahul Jha   \n",
            "1294         Data Scientist   \n",
            "602                 AWS EC2   \n",
            "375            MSc Computer   \n",
            "285           Deep Learning   \n",
            "\n",
            "                                             job_titles  similarity_score  \\\n",
            "186                     work from home , data scientist          0.148567   \n",
            "185                     work from home , data scientist          0.148567   \n",
            "595                       work from home , data analyst          0.126383   \n",
            "668                         classifier , data scientist          0.123700   \n",
            "1340  project manager , science manager , devops , p...          0.121388   \n",
            "423   work from home , machine learning engineer , d...          0.120353   \n",
            "1294  full time , learning specialist , data scienti...          0.113377   \n",
            "602   quality assurance engineer , work from home , ...          0.103118   \n",
            "375                       work from home , data analyst          0.096534   \n",
            "285        work from home , classifier , data scientist          0.096531   \n",
            "\n",
            "      combined_score  \n",
            "186         0.574283  \n",
            "185         0.574283  \n",
            "595         0.563192  \n",
            "668         0.561850  \n",
            "1340        0.560694  \n",
            "423         0.560177  \n",
            "1294        0.556688  \n",
            "602         0.551559  \n",
            "375         0.548267  \n",
            "285         0.548266  \n"
          ]
        }
      ]
    }
  ]
}